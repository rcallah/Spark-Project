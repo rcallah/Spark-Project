{
 "cells": [
  {
   "cell_type": "code",
   "execution_count": 83,
   "metadata": {},
   "outputs": [],
   "source": [
    "import pandas as pd\n",
    "import operator\n",
    "import urllib\n",
    "from wordcloud import WordCloud as wc\n",
    "import numpy as np\n",
    "import sklearn\n",
    "import requests\n",
    "import re\n",
    "\n",
    "data = pd.read_csv(\"federal_sample_20170408.csv\")\n",
    "data = pd.DataFrame(data)"
   ]
  },
  {
   "cell_type": "code",
   "execution_count": 84,
   "metadata": {},
   "outputs": [
    {
     "name": "stderr",
     "output_type": "stream",
     "text": [
      "c:\\users\\calla\\appdata\\local\\programs\\python\\python36\\lib\\site-packages\\pandas\\core\\indexing.py:189: SettingWithCopyWarning: \n",
      "A value is trying to be set on a copy of a slice from a DataFrame\n",
      "\n",
      "See the caveats in the documentation: http://pandas.pydata.org/pandas-docs/stable/indexing.html#indexing-view-versus-copy\n",
      "  self._setitem_with_indexer(indexer, value)\n"
     ]
    },
    {
     "name": "stdout",
     "output_type": "stream",
     "text": [
      "Index(['orig_pdf', 'Text_files', 'outcome', 'aleg_terms', 'deter_terms',\n",
      "       'comb'],\n",
      "      dtype='object')\n"
     ]
    },
    {
     "name": "stderr",
     "output_type": "stream",
     "text": [
      "c:\\users\\calla\\appdata\\local\\programs\\python\\python36\\lib\\site-packages\\ipykernel_launcher.py:46: SettingWithCopyWarning: \n",
      "A value is trying to be set on a copy of a slice from a DataFrame.\n",
      "Try using .loc[row_indexer,col_indexer] = value instead\n",
      "\n",
      "See the caveats in the documentation: http://pandas.pydata.org/pandas-docs/stable/indexing.html#indexing-view-versus-copy\n",
      "c:\\users\\calla\\appdata\\local\\programs\\python\\python36\\lib\\site-packages\\ipykernel_launcher.py:47: SettingWithCopyWarning: \n",
      "A value is trying to be set on a copy of a slice from a DataFrame.\n",
      "Try using .loc[row_indexer,col_indexer] = value instead\n",
      "\n",
      "See the caveats in the documentation: http://pandas.pydata.org/pandas-docs/stable/indexing.html#indexing-view-versus-copy\n",
      "c:\\users\\calla\\appdata\\local\\programs\\python\\python36\\lib\\site-packages\\ipykernel_launcher.py:48: SettingWithCopyWarning: \n",
      "A value is trying to be set on a copy of a slice from a DataFrame.\n",
      "Try using .loc[row_indexer,col_indexer] = value instead\n",
      "\n",
      "See the caveats in the documentation: http://pandas.pydata.org/pandas-docs/stable/indexing.html#indexing-view-versus-copy\n"
     ]
    }
   ],
   "source": [
    "params = ['txt_link', 'alleged_pros_misconduct', 'misconduct_determination']\n",
    "new = data[params]\n",
    "\n",
    "misconduct_terms = [' no misconduct', 'REVIEW', 'harmless error/no misconduct',\n",
    " 'harmless error/no misconduct?', 'harmless error/no misconduct??','motion denied' ,\n",
    " 'no misconduct', 'no misconduct(see notes)', 'no misconduct/harmless error',\n",
    " 'no misconduct/harmless error??', 'no misconduct/harmless error???','prejudicial', 'prejudicial ',\n",
    " 'prejudicial error', 'prejudicial misconduct', 'procedurally barred','procedurally barred // no misconduct','remand for evidentiary hearing']\n",
    "\n",
    "remove_terms = ['no determinatation','no determination', 'na','no ruling', 'no ruling???', 'not determined','procedurally defaulted', 'time-barred (did not determine)']\n",
    "\n",
    "\n",
    "data['new_outs'] = 0\n",
    "drop = []\n",
    "for index, x in data.iterrows():\n",
    "\tif x['misconduct_determination'] in misconduct_terms:\n",
    "\t\tdata['new_outs'].iloc[index] = 0\n",
    "\telif x['misconduct_determination'] in remove_terms:\n",
    "\t\tdrop.append(index)\n",
    "\telse:\n",
    "\t\tdata['new_outs'].iloc[index] = 1\n",
    "\n",
    "\n",
    "nulls = pd.isna(data['misconduct_determination'])\n",
    "to_drop = []\n",
    "for x in range(len(nulls)):\n",
    "\tif nulls[x] == True:\n",
    "\t\tto_drop.append(x)\n",
    "\n",
    "data = data.drop(drop)\n",
    "data = data.drop(to_drop)\n",
    "data = data.reset_index()\n",
    "data['outcome'] = data['new_outs']\n",
    "\n",
    "files = data[['txt_file', 'txt_link']].values.tolist()\n",
    "texts = []\n",
    "\n",
    "for index, row in data.iterrows():\n",
    "\tr = requests.get(row['txt_link'])\n",
    "\tfile = (r.text)\n",
    "\ttexts.append(file)\n",
    "\n",
    "\n",
    "data['Text_files'] = texts\n",
    "df = data[['orig_pdf', 'Text_files', 'outcome']]\n",
    "df['aleg_terms'] = data[['allegation_term_1', 'allegation_term_2', 'allegation_term_3', 'allegation_term_4', 'allegation_term_5', 'allegation_term_6']].values.tolist()\n",
    "df['deter_terms'] = data[['misconduct_determination_term1', 'misconduct_determination_term2', 'misconduct_determination_term3', 'misconduct_determination_term4', 'misconduct_determination_term5', 'misconduct_determination_term6']].values.tolist()\n",
    "df['comb'] = ([a + b for a, b in zip(df['aleg_terms'], df['deter_terms'])])\n",
    "print(df.keys())\n"
   ]
  },
  {
   "cell_type": "code",
   "execution_count": 88,
   "metadata": {},
   "outputs": [
    {
     "name": "stderr",
     "output_type": "stream",
     "text": [
      "c:\\users\\calla\\appdata\\local\\programs\\python\\python36\\lib\\site-packages\\ipykernel_launcher.py:2: SettingWithCopyWarning: \n",
      "A value is trying to be set on a copy of a slice from a DataFrame.\n",
      "Try using .loc[row_indexer,col_indexer] = value instead\n",
      "\n",
      "See the caveats in the documentation: http://pandas.pydata.org/pandas-docs/stable/indexing.html#indexing-view-versus-copy\n",
      "  \n",
      "c:\\users\\calla\\appdata\\local\\programs\\python\\python36\\lib\\site-packages\\ipykernel_launcher.py:9: SettingWithCopyWarning: \n",
      "A value is trying to be set on a copy of a slice from a DataFrame.\n",
      "Try using .loc[row_indexer,col_indexer] = value instead\n",
      "\n",
      "See the caveats in the documentation: http://pandas.pydata.org/pandas-docs/stable/indexing.html#indexing-view-versus-copy\n",
      "  if __name__ == '__main__':\n",
      "c:\\users\\calla\\appdata\\local\\programs\\python\\python36\\lib\\site-packages\\ipykernel_launcher.py:10: SettingWithCopyWarning: \n",
      "A value is trying to be set on a copy of a slice from a DataFrame.\n",
      "Try using .loc[row_indexer,col_indexer] = value instead\n",
      "\n",
      "See the caveats in the documentation: http://pandas.pydata.org/pandas-docs/stable/indexing.html#indexing-view-versus-copy\n",
      "  # Remove the CWD from sys.path while we load stuff.\n"
     ]
    }
   ],
   "source": [
    "#all_terms = df['comb'].values.tolist()\n",
    "df['comb'] = ([a + b for a, b in zip(df['aleg_terms'], df['deter_terms'])])\n",
    "terms = [[term for term in sublist] for sublist in df['comb'].values]\n",
    "terms = [term for lis in terms for term in lis]\n",
    "terms = [term.replace(\"\\n\", \" \").replace(\".\", \"\") for term in terms if type(term) != float]\n",
    "terms = [term.lower() for term in terms]\n",
    "terms = np.unique(terms)\n",
    "\n",
    "df['comb'] = [[str(val) for val in sublist] for sublist in df['comb'].values]\n",
    "df['comb'] = [' '.join(val) for val in df['comb'].values]\n",
    "\n",
    "from sklearn.feature_extraction.text import CountVectorizer\n",
    "vec = CountVectorizer(vocabulary = terms)\n",
    "count3 = vec.fit_transform(df['Text_files'].values.tolist())\n",
    "count3 = pd.DataFrame(count3.toarray(), columns=vec.get_feature_names())\n",
    "cvec3 = count3.values.tolist()\n",
    "\n",
    "sums = [sum(cvec) for cvec in cvec3]\n"
   ]
  },
  {
   "cell_type": "code",
   "execution_count": 87,
   "metadata": {},
   "outputs": [
    {
     "name": "stdout",
     "output_type": "stream",
     "text": [
      "0.8021978021978022\n"
     ]
    }
   ],
   "source": [
    "X_train = cvec3[0:275]\n",
    "y_train = df['outcome'].values.tolist()[0:275]\n",
    "X_test = cvec3[275:]\n",
    "y_test = df['outcome'].values.tolist()[275:]\n",
    "\n",
    "from sklearn.linear_model import LogisticRegressionCV\n",
    "clf = LogisticRegressionCV(random_state=0, solver='lbfgs', multi_class='multinomial').fit(X_train, y_train)\n",
    "preds = clf.predict(X_test)\n",
    "probs = clf.predict_proba(X_test)\n",
    "score = clf.score(X_test, y_test)\n",
    "print(score)\n"
   ]
  },
  {
   "cell_type": "code",
   "execution_count": null,
   "metadata": {},
   "outputs": [],
   "source": []
  }
 ],
 "metadata": {
  "kernelspec": {
   "display_name": "Python 3",
   "language": "python",
   "name": "python3"
  },
  "language_info": {
   "codemirror_mode": {
    "name": "ipython",
    "version": 3
   },
   "file_extension": ".py",
   "mimetype": "text/x-python",
   "name": "python",
   "nbconvert_exporter": "python",
   "pygments_lexer": "ipython3",
   "version": "3.6.5"
  }
 },
 "nbformat": 4,
 "nbformat_minor": 2
}
