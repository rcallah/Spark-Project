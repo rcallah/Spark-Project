{
 "cells": [
  {
   "cell_type": "code",
   "execution_count": 43,
   "metadata": {},
   "outputs": [],
   "source": [
    "from __future__ import print_function, division\n",
    "from builtins import range\n",
    "\n",
    "import os\n",
    "import sys\n",
    "import numpy as np\n",
    "import pandas as pd\n",
    "import matplotlib.pyplot as plt\n",
    "\n",
    "from keras.models import Model\n",
    "from keras.layers import Dense, Embedding, Input\n",
    "from keras.layers import LSTM, Bidirectional, GlobalMaxPool1D, Dropout\n",
    "from keras.preprocessing.text import Tokenizer\n",
    "from keras.preprocessing.sequence import pad_sequences\n",
    "from keras.optimizers import Adam\n",
    "from sklearn.metrics import roc_auc_score\n",
    "\n",
    "import keras.backend as K\n",
    "if len(K.tensorflow_backend._get_available_gpus()) > 0:\n",
    "    from keras.layers import CuDNNLSTM as LSTM\n",
    "    from keras.layers import CuDNNGRU as GRU\n",
    "\n",
    "\n",
    "MAX_VOCAB_SIZE = 20000\n",
    "MAX_SEQUENCE_LENGTH = 20106\n",
    "EMBEDDING_DIM = 50\n",
    "VALIDATION_SPLIT = 0.2\n",
    "BATCH_SIZE = 128\n",
    "EPOCHS = 5"
   ]
  },
  {
   "cell_type": "code",
   "execution_count": 44,
   "metadata": {},
   "outputs": [
    {
     "name": "stdout",
     "output_type": "stream",
     "text": [
      "Loading word vectors...\n",
      "Found 400000 word vectors.\n"
     ]
    }
   ],
   "source": [
    "# load in pre-trained word vectors\n",
    "print('Loading word vectors...')\n",
    "word2vec = {}\n",
    "with open(os.path.join('glove.6B/glove.6B.%sd.txt' % EMBEDDING_DIM)) as f:\n",
    "    for line in f:\n",
    "        values = line.split()\n",
    "        word = values[0]\n",
    "        vec = np.asarray(values[1:], dtype='float32')\n",
    "        word2vec[word] = vec\n",
    "print('Found %s word vectors.' % len(word2vec))"
   ]
  },
  {
   "cell_type": "code",
   "execution_count": 45,
   "metadata": {},
   "outputs": [
    {
     "name": "stdout",
     "output_type": "stream",
     "text": [
      "Loading in comments...\n"
     ]
    }
   ],
   "source": [
    "# prepare text samples and their labels\n",
    "print('Loading in comments...')\n",
    "\n",
    "train = pd.read_csv(\"preprocessed_data.csv\")\n",
    "sentences = train[\"case_text\"].values\n",
    "possible_labels = [\"misconduct\"]\n",
    "targets = train[possible_labels].values"
   ]
  },
  {
   "cell_type": "code",
   "execution_count": 46,
   "metadata": {},
   "outputs": [],
   "source": [
    "# convert the sentences (strings) into integers\n",
    "tokenizer = Tokenizer(num_words=MAX_VOCAB_SIZE)\n",
    "tokenizer.fit_on_texts(sentences)\n",
    "sequences = tokenizer.texts_to_sequences(sentences)"
   ]
  },
  {
   "cell_type": "code",
   "execution_count": 47,
   "metadata": {},
   "outputs": [
    {
     "name": "stdout",
     "output_type": "stream",
     "text": [
      "max sequence length: 20106\n",
      "min sequence length: 168\n",
      "median sequence length: 1542\n"
     ]
    }
   ],
   "source": [
    "print(\"max sequence length:\", max(len(s) for s in sequences))\n",
    "print(\"min sequence length:\", min(len(s) for s in sequences))\n",
    "s = sorted(len(s) for s in sequences)\n",
    "print(\"median sequence length:\", s[len(s) // 2])"
   ]
  },
  {
   "cell_type": "code",
   "execution_count": 48,
   "metadata": {},
   "outputs": [
    {
     "name": "stdout",
     "output_type": "stream",
     "text": [
      "Found 34782 unique tokens.\n"
     ]
    }
   ],
   "source": [
    "# get word -> integer mapping\n",
    "word2idx = tokenizer.word_index\n",
    "print('Found %s unique tokens.' % len(word2idx))"
   ]
  },
  {
   "cell_type": "code",
   "execution_count": 49,
   "metadata": {},
   "outputs": [
    {
     "name": "stdout",
     "output_type": "stream",
     "text": [
      "Shape of data tensor: (624, 20106)\n"
     ]
    }
   ],
   "source": [
    "# pad sequences so that we get a N x T matrix\n",
    "data = pad_sequences(sequences, maxlen=MAX_SEQUENCE_LENGTH)\n",
    "print('Shape of data tensor:', data.shape)"
   ]
  },
  {
   "cell_type": "code",
   "execution_count": 11,
   "metadata": {},
   "outputs": [
    {
     "data": {
      "text/plain": [
       "array([[   0,    0,    0, ...,  363, 8745,  121],\n",
       "       [   0,    0,    0, ...,  163, 4526,  121],\n",
       "       [   0,    0,    0, ...,  327,  105,  121],\n",
       "       ...,\n",
       "       [   0,    0,    0, ..., 8116, 1277,  121],\n",
       "       [   0,    0,    0, ...,  942,  163,  121],\n",
       "       [   0,    0,    0, ...,  347, 4748,  121]], dtype=int32)"
      ]
     },
     "execution_count": 11,
     "metadata": {},
     "output_type": "execute_result"
    }
   ],
   "source": [
    "data"
   ]
  },
  {
   "cell_type": "code",
   "execution_count": 51,
   "metadata": {},
   "outputs": [
    {
     "name": "stdout",
     "output_type": "stream",
     "text": [
      "Filling pre-trained embeddings...\n"
     ]
    }
   ],
   "source": [
    "# prepare embedding matrix\n",
    "print('Filling pre-trained embeddings...')\n",
    "num_words = min(MAX_VOCAB_SIZE, len(word2idx) + 1)\n",
    "embedding_matrix = np.zeros((num_words, EMBEDDING_DIM))\n",
    "for word, i in word2idx.items():\n",
    "    if i < MAX_VOCAB_SIZE:\n",
    "        embedding_vector = word2vec.get(word)\n",
    "        if embedding_vector is not None:\n",
    "          # words not found in embedding index will be all zeros.\n",
    "          embedding_matrix[i] = embedding_vector"
   ]
  },
  {
   "cell_type": "code",
   "execution_count": 52,
   "metadata": {},
   "outputs": [],
   "source": [
    "# load pre-trained word embeddings into an Embedding layer\n",
    "# note that we set trainable = False so as to keep the embeddings fixed\n",
    "embedding_layer = Embedding(\n",
    "  num_words,\n",
    "  EMBEDDING_DIM,\n",
    "  weights=[embedding_matrix],\n",
    "  input_length=MAX_SEQUENCE_LENGTH,\n",
    "  trainable=False\n",
    ")"
   ]
  },
  {
   "cell_type": "code",
   "execution_count": 14,
   "metadata": {},
   "outputs": [],
   "source": [
    "# print('Building model...')\n",
    "\n",
    "# # create an LSTM network with a single LSTM\n",
    "# input_ = Input(shape=(MAX_SEQUENCE_LENGTH,))\n",
    "# x = embedding_layer(input_)\n",
    "# x = LSTM(15, return_sequences=True)(x)\n",
    "# # x = Bidirectional(LSTM(15, return_sequences=True))(x)\n",
    "# x = GlobalMaxPool1D()(x)\n",
    "# output = Dense(len(possible_labels), activation=\"sigmoid\")(x)\n",
    "\n",
    "# model = Model(input_, output)\n",
    "# model.compile(\n",
    "#   loss='binary_crossentropy',\n",
    "#   optimizer=Adam(lr=0.01),\n",
    "#   metrics=['accuracy']\n",
    "# )"
   ]
  },
  {
   "cell_type": "code",
   "execution_count": 53,
   "metadata": {},
   "outputs": [
    {
     "name": "stdout",
     "output_type": "stream",
     "text": [
      "Building model...\n"
     ]
    }
   ],
   "source": [
    "print('Building model...')\n",
    "\n",
    "# create an LSTM network with a single LSTM\n",
    "input_ = Input(shape=(MAX_SEQUENCE_LENGTH,))\n",
    "x = embedding_layer(input_)\n",
    "x = LSTM(32, return_sequences=True)(x)\n",
    "# x = LSTM(10)(x)\n",
    "# x = Bidirectional(LSTM(15, return_sequences=True))(x)\n",
    "x = GlobalMaxPool1D()(x)\n",
    "output = Dense(1, activation=\"sigmoid\")(x)\n",
    "\n",
    "model = Model(input_, output)\n",
    "model.compile(\n",
    "  loss='binary_crossentropy',\n",
    "  optimizer=Adam(lr=0.01),\n",
    "  metrics=['accuracy']\n",
    ")"
   ]
  },
  {
   "cell_type": "code",
   "execution_count": 54,
   "metadata": {},
   "outputs": [
    {
     "name": "stdout",
     "output_type": "stream",
     "text": [
      "Training model...\n",
      "Train on 499 samples, validate on 125 samples\n",
      "Epoch 1/5\n",
      "499/499 [==============================] - 192s 384ms/step - loss: 0.6338 - acc: 0.6072 - val_loss: 0.5435 - val_acc: 0.7680\n",
      "Epoch 2/5\n",
      "499/499 [==============================] - 151s 302ms/step - loss: 0.5662 - acc: 0.7435 - val_loss: 0.5226 - val_acc: 0.7680\n",
      "Epoch 3/5\n",
      "499/499 [==============================] - 122s 245ms/step - loss: 0.5438 - acc: 0.7435 - val_loss: 0.5178 - val_acc: 0.7680\n",
      "Epoch 4/5\n",
      "499/499 [==============================] - 140s 280ms/step - loss: 0.5236 - acc: 0.7435 - val_loss: 0.4979 - val_acc: 0.7680\n",
      "Epoch 5/5\n",
      "499/499 [==============================] - 144s 289ms/step - loss: 0.5088 - acc: 0.7435 - val_loss: 0.4830 - val_acc: 0.7680\n"
     ]
    },
    {
     "data": {
      "image/png": "[encoded data removed]",
      "text/plain": [
       "<Figure size 432x288 with 1 Axes>"
      ]
     },
     "metadata": {},
     "output_type": "display_data"
    },
    {
     "data": {
      "image/png": "[encoded data removed]",
      "text/plain": [
       "<Figure size 432x288 with 1 Axes>"
      ]
     },
     "metadata": {},
     "output_type": "display_data"
    },
    {
     "name": "stdout",
     "output_type": "stream",
     "text": [
      "0.8071714016830562\n"
     ]
    }
   ],
   "source": [
    "print('Training model...')\n",
    "r = model.fit(\n",
    "  data,\n",
    "  targets,\n",
    "  batch_size=BATCH_SIZE,\n",
    "  epochs=EPOCHS,\n",
    "  validation_split=VALIDATION_SPLIT\n",
    ")\n",
    "\n",
    "# plot some data\n",
    "plt.plot(r.history['loss'], label='loss')\n",
    "plt.plot(r.history['val_loss'], label='val_loss')\n",
    "plt.legend()\n",
    "plt.show()\n",
    "\n",
    "# accuracies\n",
    "plt.plot(r.history['acc'], label='acc')\n",
    "plt.plot(r.history['val_acc'], label='val_acc')\n",
    "plt.legend()\n",
    "plt.show()\n",
    "\n",
    "p = model.predict(data)\n",
    "aucs = []\n",
    "for j in range(targets.shape[1]):\n",
    "    auc = roc_auc_score(targets[:,j], p[:,j])\n",
    "    aucs.append(auc)\n",
    "print(np.mean(aucs))"
   ]
  },
  {
   "cell_type": "code",
   "execution_count": 55,
   "metadata": {},
   "outputs": [
    {
     "name": "stdout",
     "output_type": "stream",
     "text": [
      "_________________________________________________________________\n",
      "Layer (type)                 Output Shape              Param #   \n",
      "=================================================================\n",
      "input_1 (InputLayer)         (None, 20106)             0         \n",
      "_________________________________________________________________\n",
      "embedding_1 (Embedding)      (None, 20106, 50)         1000000   \n",
      "_________________________________________________________________\n",
      "lstm_1 (LSTM)                (None, 20106, 32)         10624     \n",
      "_________________________________________________________________\n",
      "global_max_pooling1d_1 (Glob (None, 32)                0         \n",
      "_________________________________________________________________\n",
      "dense_1 (Dense)              (None, 1)                 33        \n",
      "=================================================================\n",
      "Total params: 1,010,657\n",
      "Trainable params: 10,657\n",
      "Non-trainable params: 1,000,000\n",
      "_________________________________________________________________\n"
     ]
    }
   ],
   "source": [
    "model.summary()"
   ]
  },
  {
   "cell_type": "code",
   "execution_count": 56,
   "metadata": {},
   "outputs": [
    {
     "data": {
      "image/svg+xml": [
       "<svg height=\"377pt\" viewBox=\"0.00 0.00 474.02 377.00\" width=\"474pt\" xmlns=\"http://www.w3.org/2000/svg\" xmlns:xlink=\"http://www.w3.org/1999/xlink\">\n",
       "<g class=\"graph\" id=\"graph0\" transform=\"scale(1 1) rotate(0) translate(4 373)\">\n",
       "<title>G</title>\n",
       "<polygon fill=\"#ffffff\" points=\"-4,4 -4,-373 470.0244,-373 470.0244,4 -4,4\" stroke=\"transparent\"/>\n",
       "<!-- 112262169040 -->\n",
       "<g class=\"node\" id=\"node1\">\n",
       "<title>112262169040</title>\n",
       "<polygon fill=\"none\" points=\"92.1724,-324.5 92.1724,-368.5 373.8521,-368.5 373.8521,-324.5 92.1724,-324.5\" stroke=\"#000000\"/>\n",
       "<text fill=\"#000000\" font-family=\"Times,serif\" font-size=\"14.00\" text-anchor=\"middle\" x=\"156.3535\" y=\"-342.3\">input_1: InputLayer</text>\n",
       "<polyline fill=\"none\" points=\"220.5347,-324.5 220.5347,-368.5 \" stroke=\"#000000\"/>\n",
       "<text fill=\"#000000\" font-family=\"Times,serif\" font-size=\"14.00\" text-anchor=\"middle\" x=\"248.3691\" y=\"-353.3\">input:</text>\n",
       "<polyline fill=\"none\" points=\"220.5347,-346.5 276.2036,-346.5 \" stroke=\"#000000\"/>\n",
       "<text fill=\"#000000\" font-family=\"Times,serif\" font-size=\"14.00\" text-anchor=\"middle\" x=\"248.3691\" y=\"-331.3\">output:</text>\n",
       "<polyline fill=\"none\" points=\"276.2036,-324.5 276.2036,-368.5 \" stroke=\"#000000\"/>\n",
       "<text fill=\"#000000\" font-family=\"Times,serif\" font-size=\"14.00\" text-anchor=\"middle\" x=\"325.0278\" y=\"-353.3\">(None, 20106)</text>\n",
       "<polyline fill=\"none\" points=\"276.2036,-346.5 373.8521,-346.5 \" stroke=\"#000000\"/>\n",
       "<text fill=\"#000000\" font-family=\"Times,serif\" font-size=\"14.00\" text-anchor=\"middle\" x=\"325.0278\" y=\"-331.3\">(None, 20106)</text>\n",
       "</g>\n",
       "<!-- 112283269216 -->\n",
       "<g class=\"node\" id=\"node2\">\n",
       "<title>112283269216</title>\n",
       "<polygon fill=\"none\" points=\"63.7827,-243.5 63.7827,-287.5 402.2417,-287.5 402.2417,-243.5 63.7827,-243.5\" stroke=\"#000000\"/>\n",
       "<text fill=\"#000000\" font-family=\"Times,serif\" font-size=\"14.00\" text-anchor=\"middle\" x=\"145.8535\" y=\"-261.3\">embedding_1: Embedding</text>\n",
       "<polyline fill=\"none\" points=\"227.9243,-243.5 227.9243,-287.5 \" stroke=\"#000000\"/>\n",
       "<text fill=\"#000000\" font-family=\"Times,serif\" font-size=\"14.00\" text-anchor=\"middle\" x=\"255.7588\" y=\"-272.3\">input:</text>\n",
       "<polyline fill=\"none\" points=\"227.9243,-265.5 283.5933,-265.5 \" stroke=\"#000000\"/>\n",
       "<text fill=\"#000000\" font-family=\"Times,serif\" font-size=\"14.00\" text-anchor=\"middle\" x=\"255.7588\" y=\"-250.3\">output:</text>\n",
       "<polyline fill=\"none\" points=\"283.5933,-243.5 283.5933,-287.5 \" stroke=\"#000000\"/>\n",
       "<text fill=\"#000000\" font-family=\"Times,serif\" font-size=\"14.00\" text-anchor=\"middle\" x=\"342.9175\" y=\"-272.3\">(None, 20106)</text>\n",
       "<polyline fill=\"none\" points=\"283.5933,-265.5 402.2417,-265.5 \" stroke=\"#000000\"/>\n",
       "<text fill=\"#000000\" font-family=\"Times,serif\" font-size=\"14.00\" text-anchor=\"middle\" x=\"342.9175\" y=\"-250.3\">(None, 20106, 50)</text>\n",
       "</g>\n",
       "<!-- 112262169040&#45;&gt;112283269216 -->\n",
       "<g class=\"edge\" id=\"edge1\">\n",
       "<title>112262169040-&gt;112283269216</title>\n",
       "<path d=\"M233.0122,-324.3664C233.0122,-316.1516 233.0122,-306.6579 233.0122,-297.7252\" fill=\"none\" stroke=\"#000000\"/>\n",
       "<polygon fill=\"#000000\" points=\"236.5123,-297.6068 233.0122,-287.6068 229.5123,-297.6069 236.5123,-297.6068\" stroke=\"#000000\"/>\n",
       "</g>\n",
       "<!-- 112262172624 -->\n",
       "<g class=\"node\" id=\"node3\">\n",
       "<title>112262172624</title>\n",
       "<polygon fill=\"none\" points=\"96.4312,-162.5 96.4312,-206.5 369.5933,-206.5 369.5933,-162.5 96.4312,-162.5\" stroke=\"#000000\"/>\n",
       "<text fill=\"#000000\" font-family=\"Times,serif\" font-size=\"14.00\" text-anchor=\"middle\" x=\"145.8535\" y=\"-180.3\">lstm_1: LSTM</text>\n",
       "<polyline fill=\"none\" points=\"195.2759,-162.5 195.2759,-206.5 \" stroke=\"#000000\"/>\n",
       "<text fill=\"#000000\" font-family=\"Times,serif\" font-size=\"14.00\" text-anchor=\"middle\" x=\"223.1104\" y=\"-191.3\">input:</text>\n",
       "<polyline fill=\"none\" points=\"195.2759,-184.5 250.9448,-184.5 \" stroke=\"#000000\"/>\n",
       "<text fill=\"#000000\" font-family=\"Times,serif\" font-size=\"14.00\" text-anchor=\"middle\" x=\"223.1104\" y=\"-169.3\">output:</text>\n",
       "<polyline fill=\"none\" points=\"250.9448,-162.5 250.9448,-206.5 \" stroke=\"#000000\"/>\n",
       "<text fill=\"#000000\" font-family=\"Times,serif\" font-size=\"14.00\" text-anchor=\"middle\" x=\"310.269\" y=\"-191.3\">(None, 20106, 50)</text>\n",
       "<polyline fill=\"none\" points=\"250.9448,-184.5 369.5933,-184.5 \" stroke=\"#000000\"/>\n",
       "<text fill=\"#000000\" font-family=\"Times,serif\" font-size=\"14.00\" text-anchor=\"middle\" x=\"310.269\" y=\"-169.3\">(None, 20106, 32)</text>\n",
       "</g>\n",
       "<!-- 112283269216&#45;&gt;112262172624 -->\n",
       "<g class=\"edge\" id=\"edge2\">\n",
       "<title>112283269216-&gt;112262172624</title>\n",
       "<path d=\"M233.0122,-243.3664C233.0122,-235.1516 233.0122,-225.6579 233.0122,-216.7252\" fill=\"none\" stroke=\"#000000\"/>\n",
       "<polygon fill=\"#000000\" points=\"236.5123,-216.6068 233.0122,-206.6068 229.5123,-216.6069 236.5123,-216.6068\" stroke=\"#000000\"/>\n",
       "</g>\n",
       "<!-- 112262171672 -->\n",
       "<g class=\"node\" id=\"node4\">\n",
       "<title>112262171672</title>\n",
       "<polygon fill=\"none\" points=\"0,-81.5 0,-125.5 466.0244,-125.5 466.0244,-81.5 0,-81.5\" stroke=\"#000000\"/>\n",
       "<text fill=\"#000000\" font-family=\"Times,serif\" font-size=\"14.00\" text-anchor=\"middle\" x=\"145.8535\" y=\"-99.3\">global_max_pooling1d_1: GlobalMaxPooling1D</text>\n",
       "<polyline fill=\"none\" points=\"291.707,-81.5 291.707,-125.5 \" stroke=\"#000000\"/>\n",
       "<text fill=\"#000000\" font-family=\"Times,serif\" font-size=\"14.00\" text-anchor=\"middle\" x=\"319.5415\" y=\"-110.3\">input:</text>\n",
       "<polyline fill=\"none\" points=\"291.707,-103.5 347.376,-103.5 \" stroke=\"#000000\"/>\n",
       "<text fill=\"#000000\" font-family=\"Times,serif\" font-size=\"14.00\" text-anchor=\"middle\" x=\"319.5415\" y=\"-88.3\">output:</text>\n",
       "<polyline fill=\"none\" points=\"347.376,-81.5 347.376,-125.5 \" stroke=\"#000000\"/>\n",
       "<text fill=\"#000000\" font-family=\"Times,serif\" font-size=\"14.00\" text-anchor=\"middle\" x=\"406.7002\" y=\"-110.3\">(None, 20106, 32)</text>\n",
       "<polyline fill=\"none\" points=\"347.376,-103.5 466.0244,-103.5 \" stroke=\"#000000\"/>\n",
       "<text fill=\"#000000\" font-family=\"Times,serif\" font-size=\"14.00\" text-anchor=\"middle\" x=\"406.7002\" y=\"-88.3\">(None, 32)</text>\n",
       "</g>\n",
       "<!-- 112262172624&#45;&gt;112262171672 -->\n",
       "<g class=\"edge\" id=\"edge3\">\n",
       "<title>112262172624-&gt;112262171672</title>\n",
       "<path d=\"M233.0122,-162.3664C233.0122,-154.1516 233.0122,-144.6579 233.0122,-135.7252\" fill=\"none\" stroke=\"#000000\"/>\n",
       "<polygon fill=\"#000000\" points=\"236.5123,-135.6068 233.0122,-125.6068 229.5123,-135.6069 236.5123,-135.6068\" stroke=\"#000000\"/>\n",
       "</g>\n",
       "<!-- 112283360448 -->\n",
       "<g class=\"node\" id=\"node5\">\n",
       "<title>112283360448</title>\n",
       "<polygon fill=\"none\" points=\"114.7275,-.5 114.7275,-44.5 351.2969,-44.5 351.2969,-.5 114.7275,-.5\" stroke=\"#000000\"/>\n",
       "<text fill=\"#000000\" font-family=\"Times,serif\" font-size=\"14.00\" text-anchor=\"middle\" x=\"166.8535\" y=\"-18.3\">dense_1: Dense</text>\n",
       "<polyline fill=\"none\" points=\"218.9795,-.5 218.9795,-44.5 \" stroke=\"#000000\"/>\n",
       "<text fill=\"#000000\" font-family=\"Times,serif\" font-size=\"14.00\" text-anchor=\"middle\" x=\"246.814\" y=\"-29.3\">input:</text>\n",
       "<polyline fill=\"none\" points=\"218.9795,-22.5 274.6484,-22.5 \" stroke=\"#000000\"/>\n",
       "<text fill=\"#000000\" font-family=\"Times,serif\" font-size=\"14.00\" text-anchor=\"middle\" x=\"246.814\" y=\"-7.3\">output:</text>\n",
       "<polyline fill=\"none\" points=\"274.6484,-.5 274.6484,-44.5 \" stroke=\"#000000\"/>\n",
       "<text fill=\"#000000\" font-family=\"Times,serif\" font-size=\"14.00\" text-anchor=\"middle\" x=\"312.9727\" y=\"-29.3\">(None, 32)</text>\n",
       "<polyline fill=\"none\" points=\"274.6484,-22.5 351.2969,-22.5 \" stroke=\"#000000\"/>\n",
       "<text fill=\"#000000\" font-family=\"Times,serif\" font-size=\"14.00\" text-anchor=\"middle\" x=\"312.9727\" y=\"-7.3\">(None, 1)</text>\n",
       "</g>\n",
       "<!-- 112262171672&#45;&gt;112283360448 -->\n",
       "<g class=\"edge\" id=\"edge4\">\n",
       "<title>112262171672-&gt;112283360448</title>\n",
       "<path d=\"M233.0122,-81.3664C233.0122,-73.1516 233.0122,-63.6579 233.0122,-54.7252\" fill=\"none\" stroke=\"#000000\"/>\n",
       "<polygon fill=\"#000000\" points=\"236.5123,-54.6068 233.0122,-44.6068 229.5123,-54.6069 236.5123,-54.6068\" stroke=\"#000000\"/>\n",
       "</g>\n",
       "</g>\n",
       "</svg>"
      ],
      "text/plain": [
       "<IPython.core.display.SVG object>"
      ]
     },
     "execution_count": 56,
     "metadata": {},
     "output_type": "execute_result"
    }
   ],
   "source": [
    "from IPython.display import SVG\n",
    "from keras.utils.vis_utils import model_to_dot\n",
    "\n",
    "SVG(model_to_dot(model, show_shapes=True).create(prog='dot', format='svg'))"
   ]
  },
  {
   "cell_type": "code",
   "execution_count": 34,
   "metadata": {},
   "outputs": [],
   "source": [
    "# from keras.utils import plot_model\n",
    "# plot_model(model, to_file='model_lstm.png', show_shapes=True)"
   ]
  }
 ],
 "metadata": {
  "kernelspec": {
   "display_name": "Python 3",
   "language": "python",
   "name": "python3"
  },
  "language_info": {
   "codemirror_mode": {
    "name": "ipython",
    "version": 3
   },
   "file_extension": ".py",
   "mimetype": "text/x-python",
   "name": "python",
   "nbconvert_exporter": "python",
   "pygments_lexer": "ipython3",
   "version": "3.6.5"
  }
 },
 "nbformat": 4,
 "nbformat_minor": 2
}
